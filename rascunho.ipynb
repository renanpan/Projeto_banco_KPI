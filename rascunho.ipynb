{
 "cells": [
  {
   "cell_type": "code",
   "execution_count": null,
   "metadata": {},
   "outputs": [],
   "source": []
  },
  {
   "cell_type": "markdown",
   "metadata": {},
   "source": [
    "## 4° união dos dataframes"
   ]
  },
  {
   "cell_type": "markdown",
   "metadata": {},
   "source": [
    "Utilizar o comando merge para unir os DataFrames em uma única tabela"
   ]
  },
  {
   "cell_type": "code",
   "execution_count": null,
   "metadata": {},
   "outputs": [
    {
     "name": "stdout",
     "output_type": "stream",
     "text": [
      "Propostas de crédito\n",
      "Index(['cod_proposta', 'cod_cliente', 'cod_colaborador',\n",
      "       'data_entrada_proposta', 'taxa_juros_mensal', 'valor_proposta',\n",
      "       'valor_financiamento', 'valor_entrada', 'valor_prestacao',\n",
      "       'quantidade_parcelas', 'carencia', 'status_proposta'],\n",
      "      dtype='object')\n",
      "\n",
      "Transações\n",
      "Index(['cod_transacao', 'num_conta', 'data_transacao', 'nome_transacao',\n",
      "       'valor_transacao'],\n",
      "      dtype='object')\n"
     ]
    }
   ],
   "source": [
    "#obtendo os titulos das colunas de cada DataFrame para saber como relacionar os dados\n",
    "\n",
    "\n",
    "print(\"Propostas de crédito\")\n",
    "print(propostas_credito.columns)\n",
    "print()\n",
    "print(\"Transações\")\n",
    "print(transacoes.columns)"
   ]
  },
  {
   "cell_type": "code",
   "execution_count": null,
   "metadata": {},
   "outputs": [],
   "source": [
    "#unir agencias e colaborador_agencia pelo cod_agencia\n",
    "agencia_e_colaborador = agencias.merge(colaborador_agencia, on='cod_agencia', how='left')"
   ]
  },
  {
   "cell_type": "code",
   "execution_count": null,
   "metadata": {},
   "outputs": [],
   "source": [
    "#unir agencia + colaborador com contas pela coluna 'cod_agencia'\n",
    "agencia_e_contas = agencia_e_colaborador.merge(contas, on='cod_agencia', how='left')"
   ]
  },
  {
   "cell_type": "code",
   "execution_count": null,
   "metadata": {},
   "outputs": [],
   "source": [
    "#removendo valores duplicados\n",
    "agencia_e_contas = agencia_e_contas.drop('data_abertura_x', axis='columns')\n",
    "\n",
    "agencia_e_contas = agencia_e_contas.drop('cod_colaborador_x', axis='columns')"
   ]
  },
  {
   "cell_type": "code",
   "execution_count": null,
   "metadata": {},
   "outputs": [
    {
     "name": "stdout",
     "output_type": "stream",
     "text": [
      "<class 'pandas.core.frame.DataFrame'>\n",
      "RangeIndex: 9398 entries, 0 to 9397\n",
      "Data columns (total 14 columns):\n",
      " #   Column                  Non-Null Count  Dtype              \n",
      "---  ------                  --------------  -----              \n",
      " 0   cod_agencia             9398 non-null   int64              \n",
      " 1   nome                    9398 non-null   object             \n",
      " 2   endereco                9398 non-null   object             \n",
      " 3   cidade                  9398 non-null   object             \n",
      " 4   uf                      9398 non-null   object             \n",
      " 5   tipo_agencia            9398 non-null   object             \n",
      " 6   num_conta               9398 non-null   int64              \n",
      " 7   cod_cliente             9398 non-null   int64              \n",
      " 8   cod_colaborador_y       9398 non-null   int64              \n",
      " 9   tipo_conta              9398 non-null   object             \n",
      " 10  data_abertura_y         9398 non-null   datetime64[ns, UTC]\n",
      " 11  saldo_total             9398 non-null   float64            \n",
      " 12  saldo_disponivel        9398 non-null   float64            \n",
      " 13  data_ultimo_lancamento  9398 non-null   datetime64[ns, UTC]\n",
      "dtypes: datetime64[ns, UTC](2), float64(2), int64(4), object(6)\n",
      "memory usage: 1.0+ MB\n"
     ]
    }
   ],
   "source": [
    "agencia_e_contas.info()"
   ]
  },
  {
   "cell_type": "code",
   "execution_count": null,
   "metadata": {},
   "outputs": [],
   "source": [
    "agencia_e_clientes = agencia_e_contas.merge(clientes, on='cod_cliente', how='left')"
   ]
  },
  {
   "cell_type": "code",
   "execution_count": null,
   "metadata": {},
   "outputs": [],
   "source": [
    "agencia_e_clientes.rename(columns={\n",
    "    'cod_colaborador_y':'cod_colaborador',\n",
    "    'data_abertura_y':'data_abertura',\n",
    "    'endereco_y':'endereco',\n",
    "}, inplace=True,)"
   ]
  },
  {
   "cell_type": "code",
   "execution_count": null,
   "metadata": {},
   "outputs": [],
   "source": [
    "colab_agencia_e_clientes = agencia_e_clientes.merge(colaboradores, on='cod_colaborador', how='left')"
   ]
  },
  {
   "cell_type": "code",
   "execution_count": null,
   "metadata": {},
   "outputs": [],
   "source": [
    "colab_agencia_e_clientes = colab_agencia_e_clientes.drop('endereco_x', axis='columns')"
   ]
  },
  {
   "cell_type": "code",
   "execution_count": null,
   "metadata": {},
   "outputs": [],
   "source": [
    "clientes_colab_propostas = colab_agencia_e_clientes.merge(propostas_credito, on='cod_cliente', how='left')"
   ]
  },
  {
   "cell_type": "code",
   "execution_count": null,
   "metadata": {},
   "outputs": [],
   "source": [
    "#remover a coluna duplicada\n",
    "clientes_colab_propostas = clientes_colab_propostas.drop('cod_colaborador_x', axis='columns')\n",
    "\n",
    "#renomear a coluna de código do colaborador\n",
    "clientes_colab_propostas.rename(\n",
    "    columns={'cod_colaborador_y':'cod_colaborador'}, inplace=True,\n",
    ")"
   ]
  },
  {
   "cell_type": "code",
   "execution_count": null,
   "metadata": {},
   "outputs": [
    {
     "name": "stdout",
     "output_type": "stream",
     "text": [
      "Index(['cod_agencia', 'nome', 'cidade', 'uf', 'tipo_agencia', 'num_conta',\n",
      "       'cod_cliente', 'tipo_conta', 'data_abertura', 'saldo_total',\n",
      "       'saldo_disponivel', 'data_ultimo_lancamento', 'primeiro_nome',\n",
      "       'ultimo_nome', 'email', 'tipo_cliente', 'data_inclusao', 'cpfcnpj',\n",
      "       'data_nascimento', 'endereco', 'cep', 'primeiro_nome_colab',\n",
      "       'ultimo_nome_colab', 'email_colaborador', 'cpf_colaborador',\n",
      "       'data_nascimento_colab', 'endereco_colaborador', 'cep_colaborador',\n",
      "       'cod_proposta', 'cod_colaborador', 'data_entrada_proposta',\n",
      "       'taxa_juros_mensal', 'valor_proposta', 'valor_financiamento',\n",
      "       'valor_entrada', 'valor_prestacao', 'quantidade_parcelas', 'carencia',\n",
      "       'status_proposta'],\n",
      "      dtype='object')\n"
     ]
    }
   ],
   "source": [
    "print(clientes_colab_propostas.columns)"
   ]
  },
  {
   "cell_type": "code",
   "execution_count": null,
   "metadata": {},
   "outputs": [],
   "source": [
    "final_merged_df = clientes_colab_propostas.merge(transacoes, on='num_conta', how='left')"
   ]
  },
  {
   "cell_type": "code",
   "execution_count": null,
   "metadata": {},
   "outputs": [
    {
     "name": "stdout",
     "output_type": "stream",
     "text": [
      "<class 'pandas.core.frame.DataFrame'>\n",
      "RangeIndex: 1441493 entries, 0 to 1441492\n",
      "Data columns (total 43 columns):\n",
      " #   Column                  Non-Null Count    Dtype              \n",
      "---  ------                  --------------    -----              \n",
      " 0   cod_agencia             1441493 non-null  int64              \n",
      " 1   nome                    1441493 non-null  object             \n",
      " 2   cidade                  1441493 non-null  object             \n",
      " 3   uf                      1441493 non-null  object             \n",
      " 4   tipo_agencia            1441493 non-null  object             \n",
      " 5   num_conta               1441493 non-null  int64              \n",
      " 6   cod_cliente             1441493 non-null  int64              \n",
      " 7   tipo_conta              1441493 non-null  object             \n",
      " 8   data_abertura           1441493 non-null  datetime64[ns, UTC]\n",
      " 9   saldo_total             1441493 non-null  float64            \n",
      " 10  saldo_disponivel        1441493 non-null  float64            \n",
      " 11  data_ultimo_lancamento  1441493 non-null  datetime64[ns, UTC]\n",
      " 12  primeiro_nome           1436501 non-null  object             \n",
      " 13  ultimo_nome             1436501 non-null  object             \n",
      " 14  email                   1436501 non-null  object             \n",
      " 15  tipo_cliente            1436501 non-null  object             \n",
      " 16  data_inclusao           1436501 non-null  datetime64[ns, UTC]\n",
      " 17  cpfcnpj                 1436501 non-null  object             \n",
      " 18  data_nascimento         1436501 non-null  datetime64[ns]     \n",
      " 19  endereco                1436501 non-null  object             \n",
      " 20  cep                     1436501 non-null  object             \n",
      " 21  primeiro_nome_colab     1441493 non-null  object             \n",
      " 22  ultimo_nome_colab       1441493 non-null  object             \n",
      " 23  email_colaborador       1441493 non-null  object             \n",
      " 24  cpf_colaborador         1441493 non-null  object             \n",
      " 25  data_nascimento_colab   1441493 non-null  datetime64[ns]     \n",
      " 26  endereco_colaborador    1441493 non-null  object             \n",
      " 27  cep_colaborador         1441493 non-null  object             \n",
      " 28  cod_proposta            1344055 non-null  float64            \n",
      " 29  cod_colaborador         1344055 non-null  float64            \n",
      " 30  data_entrada_proposta   1344055 non-null  datetime64[ns, UTC]\n",
      " 31  taxa_juros_mensal       1344055 non-null  float64            \n",
      " 32  valor_proposta          1344055 non-null  float64            \n",
      " 33  valor_financiamento     1344055 non-null  float64            \n",
      " 34  valor_entrada           1344055 non-null  float64            \n",
      " 35  valor_prestacao         1344055 non-null  float64            \n",
      " 36  quantidade_parcelas     1344055 non-null  float64            \n",
      " 37  carencia                1344055 non-null  float64            \n",
      " 38  status_proposta         1344055 non-null  object             \n",
      " 39  cod_transacao           1441493 non-null  int64              \n",
      " 40  data_transacao          1441493 non-null  datetime64[ns, UTC]\n",
      " 41  nome_transacao          1441493 non-null  object             \n",
      " 42  valor_transacao         1441493 non-null  float64            \n",
      "dtypes: datetime64[ns, UTC](5), datetime64[ns](2), float64(12), int64(4), object(20)\n",
      "memory usage: 472.9+ MB\n"
     ]
    }
   ],
   "source": [
    "final_merged_df.info()"
   ]
  },
  {
   "cell_type": "code",
   "execution_count": null,
   "metadata": {},
   "outputs": [
    {
     "name": "stdout",
     "output_type": "stream",
     "text": [
      "cod_agencia                  10\n",
      "nome                         10\n",
      "cidade                        7\n",
      "uf                            5\n",
      "tipo_agencia                  2\n",
      "num_conta                   999\n",
      "cod_cliente                 999\n",
      "tipo_conta                    1\n",
      "data_abertura               998\n",
      "saldo_total                 999\n",
      "saldo_disponivel            999\n",
      "data_ultimo_lancamento      988\n",
      "primeiro_nome               202\n",
      "ultimo_nome                  70\n",
      "email                       994\n",
      "tipo_cliente                  1\n",
      "data_inclusao               997\n",
      "cpfcnpj                     998\n",
      "data_nascimento             975\n",
      "endereco                    998\n",
      "cep                         998\n",
      "primeiro_nome_colab          75\n",
      "ultimo_nome_colab            50\n",
      "email_colaborador            94\n",
      "cpf_colaborador              94\n",
      "data_nascimento_colab        94\n",
      "endereco_colaborador         94\n",
      "cep_colaborador              94\n",
      "cod_proposta               2000\n",
      "cod_colaborador             100\n",
      "data_entrada_proposta      2000\n",
      "taxa_juros_mensal           171\n",
      "valor_proposta             2000\n",
      "valor_financiamento        2000\n",
      "valor_entrada              2000\n",
      "valor_prestacao            2000\n",
      "quantidade_parcelas         120\n",
      "carencia                      7\n",
      "status_proposta               4\n",
      "cod_transacao             71999\n",
      "data_transacao            68330\n",
      "nome_transacao               15\n",
      "valor_transacao           30166\n",
      "dtype: int64\n"
     ]
    }
   ],
   "source": [
    "print(final_merged_df.nunique())"
   ]
  },
  {
   "cell_type": "code",
   "execution_count": null,
   "metadata": {},
   "outputs": [
    {
     "name": "stdout",
     "output_type": "stream",
     "text": [
      "Index(['cod_agencia', 'nome', 'cidade', 'uf', 'tipo_agencia', 'num_conta',\n",
      "       'cod_cliente', 'tipo_conta', 'data_abertura', 'saldo_total',\n",
      "       'saldo_disponivel', 'data_ultimo_lancamento', 'primeiro_nome',\n",
      "       'ultimo_nome', 'email', 'tipo_cliente', 'data_inclusao', 'cpfcnpj',\n",
      "       'data_nascimento', 'endereco', 'cep', 'primeiro_nome_colab',\n",
      "       'ultimo_nome_colab', 'email_colaborador', 'cpf_colaborador',\n",
      "       'data_nascimento_colab', 'endereco_colaborador', 'cep_colaborador',\n",
      "       'cod_proposta', 'cod_colaborador', 'data_entrada_proposta',\n",
      "       'taxa_juros_mensal', 'valor_proposta', 'valor_financiamento',\n",
      "       'valor_entrada', 'valor_prestacao', 'quantidade_parcelas', 'carencia',\n",
      "       'status_proposta', 'cod_transacao', 'data_transacao', 'nome_transacao',\n",
      "       'valor_transacao'],\n",
      "      dtype='object')\n"
     ]
    }
   ],
   "source": [
    "print(final_merged_df.columns)"
   ]
  }
 ],
 "metadata": {
  "language_info": {
   "name": "python"
  }
 },
 "nbformat": 4,
 "nbformat_minor": 2
}
