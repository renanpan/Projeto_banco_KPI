{
 "cells": [
  {
   "cell_type": "markdown",
   "metadata": {},
   "source": [
    "# Desafio Análise de Dados"
   ]
  },
  {
   "cell_type": "markdown",
   "metadata": {},
   "source": [
    "1. Nem todos os envolvidos estão convictos com a ideia de uma frente de BIs no BanVic. Como podemos convencer Camila Diniz, diretora comercial,  que as nossas soluções serão úteis para a empresa? Com base na análise exploratória realizada nos dados apresentados, quais perguntas de negócio podemos responder para mostrar o valor que dados possuem para a empresa? Pergunta de nível teórico. O seu projeto final não necessariamente precisa trazer os mesmos ou todos os indicadores citados nessa entrega.\n",
    "\n",
    "\n",
    "2. Quais serão os indicadores ou visualizações utilizadas para responder às perguntas de negócio citadas anteriormente? Pergunta de nível teórico. O seu projeto final não necessariamente precisa trazer os mesmos ou todos os indicadores citados nessa entrega.\n",
    "\n",
    "\n",
    "3. Apresentar pelo menos duas análises de negócio para cada uma das categorias. Pergunta de nível teórico. O seu projeto final não necessariamente precisa ter todas análises citadas nessa entrega: \n",
    "\n",
    "\n",
    "        Uma análise descritiva;\n",
    "        Uma análise diagnóstica;\n",
    "        Uma análise prescritiva;\n",
    "        Uma análise preditiva.\n",
    "\n",
    "\n",
    "4. Um relatório em PDF com suas análises, justificativas e raciocínio contendo os seguintes pontos:\n",
    "\n",
    "        As respostas do item 1, 2 e 3.\n",
    "        Um tópico descrevendo brevemente quais os processos de transformação e tratamento de dados foram aplicados por você.\n",
    "        Um dashboard dos principais KPIs de negócio do BanVic permitindo um detalhamento por data, por agência e por clientes.\n",
    "        Apresentar as análises que foram necessárias para o entendimento do negócio e que podem ser úteis no suporte para a tomada de decisão.\n",
    "        E finalmente, com base nas suas análises, uma conclusão com recomendações/sugestões de negócio e encaminhamentos para a CEO do BanVic.\n",
    "        Apresentar e justificar as ferramentas adotadas para a elaboração das análises.\n"
   ]
  },
  {
   "cell_type": "markdown",
   "metadata": {},
   "source": [
    "## 1° importar as bibliotecas "
   ]
  },
  {
   "cell_type": "code",
   "execution_count": 49,
   "metadata": {},
   "outputs": [],
   "source": [
    "#importar bibliotecas\n",
    "import pandas as pd\n",
    "from matplotlib import pyplot as plt"
   ]
  },
  {
   "cell_type": "markdown",
   "metadata": {},
   "source": [
    "## 2° Importar e criar os dataframes"
   ]
  },
  {
   "cell_type": "code",
   "execution_count": 2,
   "metadata": {},
   "outputs": [],
   "source": [
    "#criar as tabelas para trabalhar\n",
    "\n",
    "agencias = pd.read_csv(\"data/agencias.csv\")\n",
    "clientes = pd.read_csv('data/clientes.csv')\n",
    "colaborador_agencia = pd.read_csv('data/colaborador_agencia.csv')\n",
    "colaboradores = pd.read_csv('data/colaboradores.csv')\n",
    "contas = pd.read_csv('data/contas.csv')\n",
    "propostas_credito = pd.read_csv('data/propostas_credito.csv')\n",
    "transacoes = pd.read_csv('data/transacoes.csv')"
   ]
  },
  {
   "cell_type": "markdown",
   "metadata": {},
   "source": [
    "## 3° Analisar cada um dos dataframes e transformar os dados conforme necessário"
   ]
  },
  {
   "cell_type": "markdown",
   "metadata": {},
   "source": [
    "### 3.1 DataFrame 'agencias'"
   ]
  },
  {
   "cell_type": "code",
   "execution_count": 3,
   "metadata": {},
   "outputs": [
    {
     "name": "stdout",
     "output_type": "stream",
     "text": [
      "<class 'pandas.core.frame.DataFrame'>\n",
      "RangeIndex: 10 entries, 0 to 9\n",
      "Data columns (total 7 columns):\n",
      " #   Column         Non-Null Count  Dtype \n",
      "---  ------         --------------  ----- \n",
      " 0   cod_agencia    10 non-null     int64 \n",
      " 1   nome           10 non-null     object\n",
      " 2   endereco       10 non-null     object\n",
      " 3   cidade         10 non-null     object\n",
      " 4   uf             10 non-null     object\n",
      " 5   data_abertura  10 non-null     object\n",
      " 6   tipo_agencia   10 non-null     object\n",
      "dtypes: int64(1), object(6)\n",
      "memory usage: 692.0+ bytes\n",
      "\n",
      "   cod_agencia              nome  \\\n",
      "0            7   Agência Digital   \n",
      "1            1    Agência Matriz   \n",
      "2            2   Agência Tatuapé   \n",
      "3            3  Agência Campinas   \n",
      "4            4    Agência Osasco   \n",
      "\n",
      "                                            endereco     cidade  uf  \\\n",
      "0  Av. Paulista, 1436 - Cerqueira César, São Paul...  São Paulo  SP   \n",
      "1  Av. Paulista, 1436 - Cerqueira César, São Paul...  São Paulo  SP   \n",
      "2  Praça Sílvio Romero, 158 - Tatuapé, São Paulo ...  São Paulo  SP   \n",
      "3  Av. Francisco Glicério, 895 - Vila Lidia, Camp...   Campinas  SP   \n",
      "4  Av. Antônio Carlos Costa, 1000 - Bela Vista, O...     Osasco  SP   \n",
      "\n",
      "  data_abertura tipo_agencia  \n",
      "0    2015-08-01      Digital  \n",
      "1    2010-01-01       Física  \n",
      "2    2010-06-14       Física  \n",
      "3    2012-03-04       Física  \n",
      "4    2013-11-06       Física  \n"
     ]
    }
   ],
   "source": [
    "agencias.info()\n",
    "\n",
    "print()\n",
    "print(agencias.head())"
   ]
  },
  {
   "cell_type": "markdown",
   "metadata": {},
   "source": [
    "    Os dados dos cabeçalhos se encontram de padronizados em letra minuscula e snake case. \n",
    "    O arquivo possui dez entradas e nenhuma das células apresenta valores nulos.\n",
    "    É necessário alterar o tipo de dados para datetime na coluna data_abertura."
   ]
  },
  {
   "cell_type": "code",
   "execution_count": 4,
   "metadata": {},
   "outputs": [
    {
     "name": "stdout",
     "output_type": "stream",
     "text": [
      "<class 'pandas.core.frame.DataFrame'>\n",
      "RangeIndex: 10 entries, 0 to 9\n",
      "Data columns (total 7 columns):\n",
      " #   Column         Non-Null Count  Dtype         \n",
      "---  ------         --------------  -----         \n",
      " 0   cod_agencia    10 non-null     int64         \n",
      " 1   nome           10 non-null     object        \n",
      " 2   endereco       10 non-null     object        \n",
      " 3   cidade         10 non-null     object        \n",
      " 4   uf             10 non-null     object        \n",
      " 5   data_abertura  10 non-null     datetime64[ns]\n",
      " 6   tipo_agencia   10 non-null     object        \n",
      "dtypes: datetime64[ns](1), int64(1), object(5)\n",
      "memory usage: 692.0+ bytes\n"
     ]
    }
   ],
   "source": [
    "#transformando os dados para datetime\n",
    "agencias['data_abertura'] = pd.to_datetime(agencias['data_abertura'])\n",
    "\n",
    "#conferindo\n",
    "agencias.info()"
   ]
  },
  {
   "cell_type": "markdown",
   "metadata": {},
   "source": [
    "### 3.2 DataFrame 'clientes'"
   ]
  },
  {
   "cell_type": "code",
   "execution_count": 5,
   "metadata": {},
   "outputs": [
    {
     "name": "stdout",
     "output_type": "stream",
     "text": [
      "<class 'pandas.core.frame.DataFrame'>\n",
      "RangeIndex: 998 entries, 0 to 997\n",
      "Data columns (total 10 columns):\n",
      " #   Column           Non-Null Count  Dtype \n",
      "---  ------           --------------  ----- \n",
      " 0   cod_cliente      998 non-null    int64 \n",
      " 1   primeiro_nome    998 non-null    object\n",
      " 2   ultimo_nome      998 non-null    object\n",
      " 3   email            998 non-null    object\n",
      " 4   tipo_cliente     998 non-null    object\n",
      " 5   data_inclusao    998 non-null    object\n",
      " 6   cpfcnpj          998 non-null    object\n",
      " 7   data_nascimento  998 non-null    object\n",
      " 8   endereco         998 non-null    object\n",
      " 9   cep              998 non-null    object\n",
      "dtypes: int64(1), object(9)\n",
      "memory usage: 78.1+ KB\n",
      "\n",
      "   cod_cliente primeiro_nome ultimo_nome                         email  \\\n",
      "0           28       Sabrina        Dias  moreiraemanuelly@example.org   \n",
      "1          674   Luiz Felipe        Dias     pedroferreira@example.org   \n",
      "2          693         Renan        Dias            ogomes@example.net   \n",
      "3          743         Clara        Dias     rafaelcorreia@example.org   \n",
      "4          769         André        Dias          danilo33@example.org   \n",
      "\n",
      "  tipo_cliente            data_inclusao         cpfcnpj data_nascimento  \\\n",
      "0           PF  2017-04-03 16:11:00 UTC  357.081.496-39      2006-08-11   \n",
      "1           PF  2021-02-10 13:27:00 UTC  085.196.374-93      1995-10-11   \n",
      "2           PF  2020-01-21 13:12:00 UTC  783.416.059-10      1948-11-19   \n",
      "3           PF  2019-05-06 11:39:00 UTC  589.237.610-95      1978-01-27   \n",
      "4           PF  2017-01-07 14:53:00 UTC  459.608.721-02      1990-08-25   \n",
      "\n",
      "                                            endereco        cep  \n",
      "0  Praia de Duarte Vila Piratininga 81327-166 Fer...  95140-704  \n",
      "1  Avenida da Rosa, 654 João Paulo Ii 20295449 Nu...  76516-765  \n",
      "2  Jardim de Rodrigues Ipiranga 14161-477 Duarte ...   51779625  \n",
      "3  Colônia Thomas Silva, 9 Tupi B 15771-946 Ferna...   19615792  \n",
      "4     Rua Correia, 889 Diamante 59123250 Aragão / RS   01672838  \n"
     ]
    }
   ],
   "source": [
    "clientes.info()\n",
    "print()\n",
    "print(clientes.head())"
   ]
  },
  {
   "cell_type": "markdown",
   "metadata": {},
   "source": [
    "    É necessário transformar as colunas de data (data_inclusao e data_nascimento) para corresponderem ao formato datetime;\n",
    "    É necessário padronizar o formato CEP para ter o traço.\n",
    "    Não há células com valores nulos dentro do DataFrame 'clientes'"
   ]
  },
  {
   "cell_type": "code",
   "execution_count": 6,
   "metadata": {},
   "outputs": [],
   "source": [
    "#arrumar os dados correspondentes para datetime\n",
    "\n",
    "clientes['data_inclusao'] = pd.to_datetime(clientes['data_inclusao'])\n",
    "clientes['data_nascimento'] = pd.to_datetime(clientes['data_nascimento'])\n"
   ]
  },
  {
   "cell_type": "code",
   "execution_count": 7,
   "metadata": {},
   "outputs": [],
   "source": [
    "#Criar uma função para arrumar os dados de CEP\n",
    "\n",
    "def formatar_cep(cep):\n",
    "    if '-' not in cep:\n",
    "        return f\"{cep[:5]}-{cep[5:]}\"\n",
    "    else:\n",
    "        return cep\n",
    "\n",
    "# Aplicar a função à coluna desejada\n",
    "clientes['cep'] = clientes['cep'].apply(formatar_cep)"
   ]
  },
  {
   "cell_type": "code",
   "execution_count": 8,
   "metadata": {},
   "outputs": [
    {
     "name": "stdout",
     "output_type": "stream",
     "text": [
      "751    93633-706\n",
      "978    89659-956\n",
      "759    86453-320\n",
      "811    90467-127\n",
      "742    99953-812\n",
      "321    78151-537\n",
      "120    06759-880\n",
      "78     85811-670\n",
      "200    19148-089\n",
      "698    29259-296\n",
      "Name: cep, dtype: object\n"
     ]
    }
   ],
   "source": [
    "#conferir se realizou a troca\n",
    "print(clientes['cep'].sample(10))"
   ]
  },
  {
   "cell_type": "markdown",
   "metadata": {},
   "source": [
    "### 3.3 DataFrame 'colaborador_agencia'"
   ]
  },
  {
   "cell_type": "code",
   "execution_count": 9,
   "metadata": {},
   "outputs": [
    {
     "name": "stdout",
     "output_type": "stream",
     "text": [
      "<class 'pandas.core.frame.DataFrame'>\n",
      "RangeIndex: 100 entries, 0 to 99\n",
      "Data columns (total 2 columns):\n",
      " #   Column           Non-Null Count  Dtype\n",
      "---  ------           --------------  -----\n",
      " 0   cod_colaborador  100 non-null    int64\n",
      " 1   cod_agencia      100 non-null    int64\n",
      "dtypes: int64(2)\n",
      "memory usage: 1.7 KB\n"
     ]
    }
   ],
   "source": [
    "#conferir os dados\n",
    "colaborador_agencia.info()"
   ]
  },
  {
   "cell_type": "markdown",
   "metadata": {},
   "source": [
    "    O DataFrame colaborador_agencia não possui valores nulos nas células, nem valores que precisam ter seus tipos alterados."
   ]
  },
  {
   "cell_type": "markdown",
   "metadata": {},
   "source": [
    "### 3.4 DataFrame 'colaboradores'"
   ]
  },
  {
   "cell_type": "code",
   "execution_count": 10,
   "metadata": {},
   "outputs": [
    {
     "name": "stdout",
     "output_type": "stream",
     "text": [
      "<class 'pandas.core.frame.DataFrame'>\n",
      "RangeIndex: 100 entries, 0 to 99\n",
      "Data columns (total 8 columns):\n",
      " #   Column           Non-Null Count  Dtype \n",
      "---  ------           --------------  ----- \n",
      " 0   cod_colaborador  100 non-null    int64 \n",
      " 1   primeiro_nome    100 non-null    object\n",
      " 2   ultimo_nome      100 non-null    object\n",
      " 3   email            100 non-null    object\n",
      " 4   cpf              100 non-null    object\n",
      " 5   data_nascimento  100 non-null    object\n",
      " 6   endereco         100 non-null    object\n",
      " 7   cep              100 non-null    object\n",
      "dtypes: int64(1), object(7)\n",
      "memory usage: 6.4+ KB\n"
     ]
    }
   ],
   "source": [
    "#Conferindo os dados do DataFrame 'colaboradores'\n",
    "\n",
    "colaboradores.info()"
   ]
  },
  {
   "cell_type": "code",
   "execution_count": 11,
   "metadata": {},
   "outputs": [
    {
     "name": "stdout",
     "output_type": "stream",
     "text": [
      "82    1976-09-12\n",
      "8     1963-12-21\n",
      "35    1980-05-19\n",
      "69    1991-10-10\n",
      "83    1970-12-24\n",
      "Name: data_nascimento, dtype: object\n"
     ]
    }
   ],
   "source": [
    "#amostrar o formato de data de nascimento dos colaboradores \n",
    "print(colaboradores['data_nascimento'].sample(5))\n",
    "\n",
    "#converter o tipo de dados para datetime\n",
    "\n",
    "colaboradores['data_nascimento'] = pd.to_datetime(colaboradores['data_nascimento'])"
   ]
  },
  {
   "cell_type": "code",
   "execution_count": 12,
   "metadata": {},
   "outputs": [],
   "source": [
    "#alterar o nome das colunas para não confundir na hora do merge\n",
    "\n",
    "colaboradores.rename(columns={'endereco':'endereco_colaborador',\n",
    "                              'cpf':'cpf_colaborador',\n",
    "                              'cep':'cep_colaborador',\n",
    "                              'email':'email_colaborador',\n",
    "                              'primeiro_nome':'primeiro_nome_colab',\n",
    "                              'ultimo_nome':'ultimo_nome_colab',\n",
    "                              'data_nascimento':'data_nascimento_colab'},inplace=True,)"
   ]
  },
  {
   "cell_type": "code",
   "execution_count": 13,
   "metadata": {},
   "outputs": [
    {
     "name": "stdout",
     "output_type": "stream",
     "text": [
      "<class 'pandas.core.frame.DataFrame'>\n",
      "RangeIndex: 100 entries, 0 to 99\n",
      "Data columns (total 8 columns):\n",
      " #   Column                 Non-Null Count  Dtype         \n",
      "---  ------                 --------------  -----         \n",
      " 0   cod_colaborador        100 non-null    int64         \n",
      " 1   primeiro_nome_colab    100 non-null    object        \n",
      " 2   ultimo_nome_colab      100 non-null    object        \n",
      " 3   email_colaborador      100 non-null    object        \n",
      " 4   cpf_colaborador        100 non-null    object        \n",
      " 5   data_nascimento_colab  100 non-null    datetime64[ns]\n",
      " 6   endereco_colaborador   100 non-null    object        \n",
      " 7   cep_colaborador        100 non-null    object        \n",
      "dtypes: datetime64[ns](1), int64(1), object(6)\n",
      "memory usage: 6.4+ KB\n"
     ]
    }
   ],
   "source": [
    "colaboradores.info()"
   ]
  },
  {
   "cell_type": "markdown",
   "metadata": {},
   "source": [
    "    O DataFrame 'colaboradores' não possui valores nulos e foi necessário alterar o tipo de dados do campo data_nascimento para datetime."
   ]
  },
  {
   "cell_type": "markdown",
   "metadata": {},
   "source": [
    "### 3.5 DataFrame 'contas'"
   ]
  },
  {
   "cell_type": "code",
   "execution_count": 14,
   "metadata": {},
   "outputs": [
    {
     "name": "stdout",
     "output_type": "stream",
     "text": [
      "<class 'pandas.core.frame.DataFrame'>\n",
      "RangeIndex: 999 entries, 0 to 998\n",
      "Data columns (total 9 columns):\n",
      " #   Column                  Non-Null Count  Dtype  \n",
      "---  ------                  --------------  -----  \n",
      " 0   num_conta               999 non-null    int64  \n",
      " 1   cod_cliente             999 non-null    int64  \n",
      " 2   cod_agencia             999 non-null    int64  \n",
      " 3   cod_colaborador         999 non-null    int64  \n",
      " 4   tipo_conta              999 non-null    object \n",
      " 5   data_abertura           999 non-null    object \n",
      " 6   saldo_total             999 non-null    float64\n",
      " 7   saldo_disponivel        999 non-null    float64\n",
      " 8   data_ultimo_lancamento  999 non-null    object \n",
      "dtypes: float64(2), int64(4), object(3)\n",
      "memory usage: 70.4+ KB\n"
     ]
    }
   ],
   "source": [
    "#entender os dados do DataFrame 'contas'\n",
    "\n",
    "contas.info()"
   ]
  },
  {
   "cell_type": "code",
   "execution_count": 15,
   "metadata": {},
   "outputs": [
    {
     "name": "stdout",
     "output_type": "stream",
     "text": [
      "               data_abertura          data_ultimo_lancamento\n",
      "446  2020-04-19 12:09:00 UTC         2022-09-08 22:01:13 UTC\n",
      "642  2019-12-06 11:03:00 UTC  2022-12-30 00:00:00.805063 UTC\n",
      "639  2020-07-17 16:24:00 UTC  2022-12-29 23:59:59.861661 UTC\n",
      "484  2017-02-03 15:31:00 UTC         2019-07-30 03:31:10 UTC\n",
      "948  2020-06-08 14:51:00 UTC         2022-12-29 23:59:57 UTC\n"
     ]
    }
   ],
   "source": [
    "print(contas[['data_abertura','data_ultimo_lancamento']].sample(5))"
   ]
  },
  {
   "cell_type": "code",
   "execution_count": 16,
   "metadata": {},
   "outputs": [],
   "source": [
    "#transformar as colunas de data para o formato datetime\n",
    "contas['data_abertura'] = pd.to_datetime(contas['data_abertura'])"
   ]
  },
  {
   "cell_type": "code",
   "execution_count": 17,
   "metadata": {},
   "outputs": [],
   "source": [
    "contas['data_ultimo_lancamento'] = pd.to_datetime(contas['data_ultimo_lancamento'], format='mixed')"
   ]
  },
  {
   "cell_type": "markdown",
   "metadata": {},
   "source": [
    "### 3.6 DataFrame 'propostas_credito'"
   ]
  },
  {
   "cell_type": "code",
   "execution_count": 18,
   "metadata": {},
   "outputs": [
    {
     "name": "stdout",
     "output_type": "stream",
     "text": [
      "<class 'pandas.core.frame.DataFrame'>\n",
      "RangeIndex: 2000 entries, 0 to 1999\n",
      "Data columns (total 12 columns):\n",
      " #   Column                 Non-Null Count  Dtype  \n",
      "---  ------                 --------------  -----  \n",
      " 0   cod_proposta           2000 non-null   int64  \n",
      " 1   cod_cliente            2000 non-null   int64  \n",
      " 2   cod_colaborador        2000 non-null   int64  \n",
      " 3   data_entrada_proposta  2000 non-null   object \n",
      " 4   taxa_juros_mensal      2000 non-null   float64\n",
      " 5   valor_proposta         2000 non-null   float64\n",
      " 6   valor_financiamento    2000 non-null   float64\n",
      " 7   valor_entrada          2000 non-null   float64\n",
      " 8   valor_prestacao        2000 non-null   float64\n",
      " 9   quantidade_parcelas    2000 non-null   int64  \n",
      " 10  carencia               2000 non-null   int64  \n",
      " 11  status_proposta        2000 non-null   object \n",
      "dtypes: float64(5), int64(5), object(2)\n",
      "memory usage: 187.6+ KB\n"
     ]
    }
   ],
   "source": [
    "#entendendo os dados do DataFrame propostas_credito\n",
    "\n",
    "propostas_credito.info()"
   ]
  },
  {
   "cell_type": "code",
   "execution_count": 19,
   "metadata": {},
   "outputs": [],
   "source": [
    "#transformar os dados para o formato datetime da coluna 'data_entrada_proposta'\n",
    "propostas_credito['data_entrada_proposta'] = pd.to_datetime(propostas_credito['data_entrada_proposta'])"
   ]
  },
  {
   "cell_type": "markdown",
   "metadata": {},
   "source": [
    "    O dataframe 'propostas_credito' não possui valores nulos e preciso que a coluna 'data_entrada_proposta' tivesse seu valor alterado para o formato datetime."
   ]
  },
  {
   "cell_type": "markdown",
   "metadata": {},
   "source": [
    "### 3.7 DataFrame 'transacoes'\n"
   ]
  },
  {
   "cell_type": "code",
   "execution_count": 20,
   "metadata": {},
   "outputs": [
    {
     "name": "stdout",
     "output_type": "stream",
     "text": [
      "<class 'pandas.core.frame.DataFrame'>\n",
      "RangeIndex: 71999 entries, 0 to 71998\n",
      "Data columns (total 5 columns):\n",
      " #   Column           Non-Null Count  Dtype  \n",
      "---  ------           --------------  -----  \n",
      " 0   cod_transacao    71999 non-null  int64  \n",
      " 1   num_conta        71999 non-null  int64  \n",
      " 2   data_transacao   71999 non-null  object \n",
      " 3   nome_transacao   71999 non-null  object \n",
      " 4   valor_transacao  71999 non-null  float64\n",
      "dtypes: float64(1), int64(2), object(2)\n",
      "memory usage: 2.7+ MB\n"
     ]
    }
   ],
   "source": [
    "#entender os dados do DataFrame 'transacoes'\n",
    "transacoes.info()"
   ]
  },
  {
   "cell_type": "code",
   "execution_count": 21,
   "metadata": {},
   "outputs": [],
   "source": [
    "#transformar a coluna 'data_transacao' para o formato datetime\n",
    "\n",
    "transacoes['data_transacao'] = pd.to_datetime(transacoes['data_transacao'], format='mixed')"
   ]
  },
  {
   "cell_type": "markdown",
   "metadata": {},
   "source": [
    "## 4.1 Unir os DataFrames"
   ]
  },
  {
   "cell_type": "markdown",
   "metadata": {},
   "source": [
    "## 5° Usando esses dados"
   ]
  },
  {
   "cell_type": "markdown",
   "metadata": {},
   "source": [
    " - Perguntas para responder\n",
    "      - transações financeiras\n",
    "      - comportamento dos clientes em diversos canais\n",
    "      - como o PIX afetou as transações\n",
    "      - identificar padrões de inatividade\n",
    "      - avaliar a popularidade da agência digital em comparação com a agência física\n",
    "      - o BanVic pode investir mais em marketing  e melhorar a segmentação dos clientes nas cidades que o banco já está estabelecido\n",
    "          - Quanto capital os novos bancos trouxeram?\n",
    "\n",
    "- Nem todos os envolvidos estão convictos com a ideia de uma frente de BIs no BanVic. Como podemos convencer Camila Diniz, diretora comercial,  que as nossas soluções serão úteis para a empresa? Com base na análise exploratória realizada nos dados apresentados, quais perguntas de negócio podemos responder para mostrar o valor que dados possuem para a empresa?\n",
    "\n",
    "- Quais serão os indicadores ou visualizações utilizadas para responder às perguntas de negócio citadas anteriormente? \n",
    "\n",
    "- Apresentar pelo menos duas análises de negócio para cada uma das categorias.\n",
    "    - Uma análise descritiva;\n",
    "    - Uma análise diagnóstica;\n",
    "    - Uma análise prescritiva;\n",
    "    - Uma análise preditiva"
   ]
  },
  {
   "cell_type": "code",
   "execution_count": 40,
   "metadata": {},
   "outputs": [
    {
     "name": "stdout",
     "output_type": "stream",
     "text": [
      "tipo_conta\n",
      "PF    999\n",
      "Name: count, dtype: int64\n"
     ]
    }
   ],
   "source": [
    "#tipo de contas dos usuários\n",
    "\n",
    "tipo_de_conta = contas['tipo_conta'].value_counts()\n",
    "\n",
    "print(tipo_de_conta)"
   ]
  },
  {
   "cell_type": "markdown",
   "metadata": {},
   "source": [
    "Todas as contas do banco são de pessoa física."
   ]
  },
  {
   "cell_type": "code",
   "execution_count": null,
   "metadata": {},
   "outputs": [
    {
     "name": "stdout",
     "output_type": "stream",
     "text": [
      "   cod_agencia                    nome\n",
      "1            1          Agência Matriz\n",
      "2            2         Agência Tatuapé\n",
      "3            3        Agência Campinas\n",
      "4            4          Agência Osasco\n",
      "5            5    Agência Porto Alegre\n",
      "6            6  Agência Rio de Janeiro\n",
      "0            7         Agência Digital\n",
      "7            8         Agência Jardins\n",
      "8            9   Agência Florianópolis\n",
      "9           10          Agência Recife\n"
     ]
    }
   ],
   "source": [
    "print(agencias[['cod_agencia','nome']].sort_values(by='cod_agencia'))"
   ]
  },
  {
   "cell_type": "code",
   "execution_count": 105,
   "metadata": {},
   "outputs": [
    {
     "data": {
      "text/plain": [
       "Text(0.5, 1.0, 'Saldo total por agência')"
      ]
     },
     "execution_count": 105,
     "metadata": {},
     "output_type": "execute_result"
    },
    {
     "data": {
      "image/png": "[encoded data removed]",
      "text/plain": [
       "<Figure size 800x400 with 1 Axes>"
      ]
     },
     "metadata": {},
     "output_type": "display_data"
    }
   ],
   "source": [
    "#Qual o saldo total por agência?\n",
    "saldo_total_por_agencia = contas.groupby('cod_agencia')['saldo_total'].sum()\n",
    "\n",
    "nome_agencias = ['Agencia Matriz', 'Agencia Tatuapé','Agencia Campinas','Agencia Osasco','Agencia Porto Alegre','Agencia Rio de Janeiro','Agencia Digital','Agencia Jardins','Agencia Florianópolis','Agencia Recife']\n",
    "\n",
    "plt.figure(figsize=[8,4])\n",
    "saldo_total_por_agencia.plot(kind='bar')\n",
    "plt.ylabel(\"Saldo total (10^7)\")\n",
    "plt.xlabel('Agência')\n",
    "plt.xticks(range(len(nome_agencias)), nome_agencias, rotation=45, ha='right')\n",
    "plt.title('Saldo total por agência')\n"
   ]
  },
  {
   "cell_type": "code",
   "execution_count": 104,
   "metadata": {},
   "outputs": [
    {
     "data": {
      "text/plain": [
       "Text(0.5, 1.0, 'Clientes por agência')"
      ]
     },
     "execution_count": 104,
     "metadata": {},
     "output_type": "execute_result"
    },
    {
     "data": {
      "image/png": "[encoded data removed]",
      "text/plain": [
       "<Figure size 800x400 with 1 Axes>"
      ]
     },
     "metadata": {},
     "output_type": "display_data"
    }
   ],
   "source": [
    "#Quantos clientes por agência?\n",
    "clientes_por_agencia = contas.groupby('cod_agencia')['cod_cliente'].count()\n",
    "plt.figure(figsize=[8,4])\n",
    "clientes_por_agencia.plot(kind='bar')\n",
    "plt.ylabel(\"Clientes\")\n",
    "plt.xlabel('Agência')\n",
    "plt.xticks(range(len(nome_agencias)), nome_agencias, rotation=45, ha='right')\n",
    "plt.title('Clientes por agência')\n"
   ]
  },
  {
   "cell_type": "code",
   "execution_count": 103,
   "metadata": {},
   "outputs": [
    {
     "data": {
      "text/plain": [
       "Text(0.5, 1.0, 'Saldo médio por agência')"
      ]
     },
     "execution_count": 103,
     "metadata": {},
     "output_type": "execute_result"
    },
    {
     "data": {
      "image/png": "[encoded data removed]",
      "text/plain": [
       "<Figure size 800x400 with 1 Axes>"
      ]
     },
     "metadata": {},
     "output_type": "display_data"
    }
   ],
   "source": [
    "#Qual o aldo médio por agência?\n",
    "saldo_medio_por_agencia = contas.groupby('cod_agencia')['saldo_total'].mean()\n",
    "plt.figure(figsize=[8,4])\n",
    "saldo_medio_por_agencia.plot(kind='bar')\n",
    "plt.ylabel(\"Saldo médio\")\n",
    "plt.xlabel('Agência')\n",
    "plt.xticks(range(len(nome_agencias)), nome_agencias, rotation=45, ha='right')\n",
    "plt.title('Saldo médio por agência')"
   ]
  }
 ],
 "metadata": {
  "kernelspec": {
   "display_name": "Python 3",
   "language": "python",
   "name": "python3"
  },
  "language_info": {
   "codemirror_mode": {
    "name": "ipython",
    "version": 3
   },
   "file_extension": ".py",
   "mimetype": "text/x-python",
   "name": "python",
   "nbconvert_exporter": "python",
   "pygments_lexer": "ipython3",
   "version": "3.12.0"
  }
 },
 "nbformat": 4,
 "nbformat_minor": 2
}
