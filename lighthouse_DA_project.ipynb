{
 "cells": [
  {
   "cell_type": "markdown",
   "metadata": {},
   "source": [
    "# Desafio Análise de Dados"
   ]
  },
  {
   "cell_type": "markdown",
   "metadata": {},
   "source": [
    "1. Nem todos os envolvidos estão convictos com a ideia de uma frente de BIs no BanVic. Como podemos convencer Camila Diniz, diretora comercial,  que as nossas soluções serão úteis para a empresa? Com base na análise exploratória realizada nos dados apresentados, quais perguntas de negócio podemos responder para mostrar o valor que dados possuem para a empresa? Pergunta de nível teórico. O seu projeto final não necessariamente precisa trazer os mesmos ou todos os indicadores citados nessa entrega.\n",
    "\n",
    "\n",
    "2. Quais serão os indicadores ou visualizações utilizadas para responder às perguntas de negócio citadas anteriormente? Pergunta de nível teórico. O seu projeto final não necessariamente precisa trazer os mesmos ou todos os indicadores citados nessa entrega.\n",
    "\n",
    "\n",
    "3. Apresentar pelo menos duas análises de negócio para cada uma das categorias. Pergunta de nível teórico. O seu projeto final não necessariamente precisa ter todas análises citadas nessa entrega: \n",
    "\n",
    "\n",
    "        Uma análise descritiva;\n",
    "        Uma análise diagnóstica;\n",
    "        Uma análise prescritiva;\n",
    "        Uma análise preditiva.\n",
    "\n",
    "\n",
    "4. Um relatório em PDF com suas análises, justificativas e raciocínio contendo os seguintes pontos:\n",
    "\n",
    "        As respostas do item 1, 2 e 3.\n",
    "        Um tópico descrevendo brevemente quais os processos de transformação e tratamento de dados foram aplicados por você.\n",
    "        Um dashboard dos principais KPIs de negócio do BanVic permitindo um detalhamento por data, por agência e por clientes.\n",
    "        Apresentar as análises que foram necessárias para o entendimento do negócio e que podem ser úteis no suporte para a tomada de decisão.\n",
    "        E finalmente, com base nas suas análises, uma conclusão com recomendações/sugestões de negócio e encaminhamentos para a CEO do BanVic.\n",
    "        Apresentar e justificar as ferramentas adotadas para a elaboração das análises.\n"
   ]
  },
  {
   "cell_type": "markdown",
   "metadata": {},
   "source": [
    "## 1° importar as bibliotecas "
   ]
  },
  {
   "cell_type": "code",
   "execution_count": 1,
   "metadata": {},
   "outputs": [],
   "source": [
    "#importar bibliotecas\n",
    "import pandas as pd"
   ]
  },
  {
   "cell_type": "markdown",
   "metadata": {},
   "source": [
    "## 2° Importar e criar os dataframes"
   ]
  },
  {
   "cell_type": "code",
   "execution_count": 2,
   "metadata": {},
   "outputs": [],
   "source": [
    "#criar as tabelas para trabalhar\n",
    "\n",
    "agencias = pd.read_csv(\"data/agencias.csv\")\n",
    "clientes = pd.read_csv('data/clientes.csv')\n",
    "colaborador_agencia = pd.read_csv('data/colaborador_agencia.csv')\n",
    "colaboradores = pd.read_csv('data/colaboradores.csv')\n",
    "contas = pd.read_csv('data/contas.csv')\n",
    "propostas_credito = pd.read_csv('data/propostas_credito.csv')\n",
    "transacoes = pd.read_csv('data/transacoes.csv')"
   ]
  },
  {
   "cell_type": "markdown",
   "metadata": {},
   "source": [
    "## 3° Analisar cada um dos dataframes e transformar os dados conforme necessário"
   ]
  },
  {
   "cell_type": "markdown",
   "metadata": {},
   "source": [
    "### 3.1 DataFrame 'agencias'"
   ]
  },
  {
   "cell_type": "code",
   "execution_count": 3,
   "metadata": {},
   "outputs": [
    {
     "name": "stdout",
     "output_type": "stream",
     "text": [
      "<class 'pandas.core.frame.DataFrame'>\n",
      "RangeIndex: 10 entries, 0 to 9\n",
      "Data columns (total 7 columns):\n",
      " #   Column         Non-Null Count  Dtype \n",
      "---  ------         --------------  ----- \n",
      " 0   cod_agencia    10 non-null     int64 \n",
      " 1   nome           10 non-null     object\n",
      " 2   endereco       10 non-null     object\n",
      " 3   cidade         10 non-null     object\n",
      " 4   uf             10 non-null     object\n",
      " 5   data_abertura  10 non-null     object\n",
      " 6   tipo_agencia   10 non-null     object\n",
      "dtypes: int64(1), object(6)\n",
      "memory usage: 692.0+ bytes\n",
      "\n",
      "   cod_agencia              nome  \\\n",
      "0            7   Agência Digital   \n",
      "1            1    Agência Matriz   \n",
      "2            2   Agência Tatuapé   \n",
      "3            3  Agência Campinas   \n",
      "4            4    Agência Osasco   \n",
      "\n",
      "                                            endereco     cidade  uf  \\\n",
      "0  Av. Paulista, 1436 - Cerqueira César, São Paul...  São Paulo  SP   \n",
      "1  Av. Paulista, 1436 - Cerqueira César, São Paul...  São Paulo  SP   \n",
      "2  Praça Sílvio Romero, 158 - Tatuapé, São Paulo ...  São Paulo  SP   \n",
      "3  Av. Francisco Glicério, 895 - Vila Lidia, Camp...   Campinas  SP   \n",
      "4  Av. Antônio Carlos Costa, 1000 - Bela Vista, O...     Osasco  SP   \n",
      "\n",
      "  data_abertura tipo_agencia  \n",
      "0    2015-08-01      Digital  \n",
      "1    2010-01-01       Física  \n",
      "2    2010-06-14       Física  \n",
      "3    2012-03-04       Física  \n",
      "4    2013-11-06       Física  \n"
     ]
    }
   ],
   "source": [
    "agencias.info()\n",
    "\n",
    "print()\n",
    "print(agencias.head())"
   ]
  },
  {
   "cell_type": "markdown",
   "metadata": {},
   "source": [
    "    Os dados dos cabeçalhos se encontram de padronizados em letra minuscula e snake case. \n",
    "    O arquivo possui dez entradas e nenhuma das células apresenta valores nulos.\n",
    "    É necessário alterar o tipo de dados para datetime na coluna data_abertura."
   ]
  },
  {
   "cell_type": "code",
   "execution_count": 4,
   "metadata": {},
   "outputs": [
    {
     "name": "stdout",
     "output_type": "stream",
     "text": [
      "<class 'pandas.core.frame.DataFrame'>\n",
      "RangeIndex: 10 entries, 0 to 9\n",
      "Data columns (total 7 columns):\n",
      " #   Column         Non-Null Count  Dtype         \n",
      "---  ------         --------------  -----         \n",
      " 0   cod_agencia    10 non-null     int64         \n",
      " 1   nome           10 non-null     object        \n",
      " 2   endereco       10 non-null     object        \n",
      " 3   cidade         10 non-null     object        \n",
      " 4   uf             10 non-null     object        \n",
      " 5   data_abertura  10 non-null     datetime64[ns]\n",
      " 6   tipo_agencia   10 non-null     object        \n",
      "dtypes: datetime64[ns](1), int64(1), object(5)\n",
      "memory usage: 692.0+ bytes\n"
     ]
    }
   ],
   "source": [
    "#transformando os dados para datetime\n",
    "agencias['data_abertura'] = pd.to_datetime(agencias['data_abertura'])\n",
    "\n",
    "#conferindo\n",
    "agencias.info()"
   ]
  },
  {
   "cell_type": "markdown",
   "metadata": {},
   "source": [
    "### 3.2 DataFrame 'clientes'"
   ]
  },
  {
   "cell_type": "code",
   "execution_count": 5,
   "metadata": {},
   "outputs": [
    {
     "name": "stdout",
     "output_type": "stream",
     "text": [
      "<class 'pandas.core.frame.DataFrame'>\n",
      "RangeIndex: 998 entries, 0 to 997\n",
      "Data columns (total 10 columns):\n",
      " #   Column           Non-Null Count  Dtype \n",
      "---  ------           --------------  ----- \n",
      " 0   cod_cliente      998 non-null    int64 \n",
      " 1   primeiro_nome    998 non-null    object\n",
      " 2   ultimo_nome      998 non-null    object\n",
      " 3   email            998 non-null    object\n",
      " 4   tipo_cliente     998 non-null    object\n",
      " 5   data_inclusao    998 non-null    object\n",
      " 6   cpfcnpj          998 non-null    object\n",
      " 7   data_nascimento  998 non-null    object\n",
      " 8   endereco         998 non-null    object\n",
      " 9   cep              998 non-null    object\n",
      "dtypes: int64(1), object(9)\n",
      "memory usage: 78.1+ KB\n",
      "\n",
      "   cod_cliente primeiro_nome ultimo_nome                         email  \\\n",
      "0           28       Sabrina        Dias  moreiraemanuelly@example.org   \n",
      "1          674   Luiz Felipe        Dias     pedroferreira@example.org   \n",
      "2          693         Renan        Dias            ogomes@example.net   \n",
      "3          743         Clara        Dias     rafaelcorreia@example.org   \n",
      "4          769         André        Dias          danilo33@example.org   \n",
      "\n",
      "  tipo_cliente            data_inclusao         cpfcnpj data_nascimento  \\\n",
      "0           PF  2017-04-03 16:11:00 UTC  357.081.496-39      2006-08-11   \n",
      "1           PF  2021-02-10 13:27:00 UTC  085.196.374-93      1995-10-11   \n",
      "2           PF  2020-01-21 13:12:00 UTC  783.416.059-10      1948-11-19   \n",
      "3           PF  2019-05-06 11:39:00 UTC  589.237.610-95      1978-01-27   \n",
      "4           PF  2017-01-07 14:53:00 UTC  459.608.721-02      1990-08-25   \n",
      "\n",
      "                                            endereco        cep  \n",
      "0  Praia de Duarte Vila Piratininga 81327-166 Fer...  95140-704  \n",
      "1  Avenida da Rosa, 654 João Paulo Ii 20295449 Nu...  76516-765  \n",
      "2  Jardim de Rodrigues Ipiranga 14161-477 Duarte ...   51779625  \n",
      "3  Colônia Thomas Silva, 9 Tupi B 15771-946 Ferna...   19615792  \n",
      "4     Rua Correia, 889 Diamante 59123250 Aragão / RS   01672838  \n"
     ]
    }
   ],
   "source": [
    "clientes.info()\n",
    "print()\n",
    "print(clientes.head())"
   ]
  },
  {
   "cell_type": "markdown",
   "metadata": {},
   "source": [
    "    É necessário transformar as colunas de data (data_inclusao e data_nascimento) para corresponderem ao formato datetime;\n",
    "    É necessário padronizar o formato CEP para ter o traço.\n",
    "    Não há células com valores nulos dentro do DataFrame 'clientes'"
   ]
  },
  {
   "cell_type": "code",
   "execution_count": 6,
   "metadata": {},
   "outputs": [],
   "source": [
    "#arrumar os dados correspondentes para datetime\n",
    "\n",
    "clientes['data_inclusao'] = pd.to_datetime(clientes['data_inclusao'])\n",
    "clientes['data_nascimento'] = pd.to_datetime(clientes['data_nascimento'])\n"
   ]
  },
  {
   "cell_type": "code",
   "execution_count": 7,
   "metadata": {},
   "outputs": [],
   "source": [
    "#Criar uma função para arrumar os dados de CEP\n",
    "\n",
    "def formatar_cep(cep):\n",
    "    if '-' not in cep:\n",
    "        return f\"{cep[:5]}-{cep[5:]}\"\n",
    "    else:\n",
    "        return cep\n",
    "\n",
    "# Aplicar a função à coluna desejada\n",
    "clientes['cep'] = clientes['cep'].apply(formatar_cep)"
   ]
  },
  {
   "cell_type": "code",
   "execution_count": 8,
   "metadata": {},
   "outputs": [
    {
     "name": "stdout",
     "output_type": "stream",
     "text": [
      "340    02217-338\n",
      "779    29165-027\n",
      "224    94645-786\n",
      "424    61725-909\n",
      "264    66313-047\n",
      "498    99555-106\n",
      "864    81600-217\n",
      "529    13347-642\n",
      "881    08567-273\n",
      "707    28353-018\n",
      "Name: cep, dtype: object\n"
     ]
    }
   ],
   "source": [
    "#conferir se realizou a troca\n",
    "print(clientes['cep'].sample(10))"
   ]
  },
  {
   "cell_type": "markdown",
   "metadata": {},
   "source": [
    "### 3.3 DataFrame 'colaborador_agencia'"
   ]
  },
  {
   "cell_type": "code",
   "execution_count": 9,
   "metadata": {},
   "outputs": [
    {
     "name": "stdout",
     "output_type": "stream",
     "text": [
      "<class 'pandas.core.frame.DataFrame'>\n",
      "RangeIndex: 100 entries, 0 to 99\n",
      "Data columns (total 2 columns):\n",
      " #   Column           Non-Null Count  Dtype\n",
      "---  ------           --------------  -----\n",
      " 0   cod_colaborador  100 non-null    int64\n",
      " 1   cod_agencia      100 non-null    int64\n",
      "dtypes: int64(2)\n",
      "memory usage: 1.7 KB\n"
     ]
    }
   ],
   "source": [
    "#conferir os dados\n",
    "colaborador_agencia.info()"
   ]
  },
  {
   "cell_type": "markdown",
   "metadata": {},
   "source": [
    "    O DataFrame colaborador_agencia não possui valores nulos nas células, nem valores que precisam ter seus tipos alterados."
   ]
  },
  {
   "cell_type": "markdown",
   "metadata": {},
   "source": [
    "### 3.4 DataFrame 'colaboradores'"
   ]
  },
  {
   "cell_type": "code",
   "execution_count": 10,
   "metadata": {},
   "outputs": [
    {
     "name": "stdout",
     "output_type": "stream",
     "text": [
      "<class 'pandas.core.frame.DataFrame'>\n",
      "RangeIndex: 100 entries, 0 to 99\n",
      "Data columns (total 8 columns):\n",
      " #   Column           Non-Null Count  Dtype \n",
      "---  ------           --------------  ----- \n",
      " 0   cod_colaborador  100 non-null    int64 \n",
      " 1   primeiro_nome    100 non-null    object\n",
      " 2   ultimo_nome      100 non-null    object\n",
      " 3   email            100 non-null    object\n",
      " 4   cpf              100 non-null    object\n",
      " 5   data_nascimento  100 non-null    object\n",
      " 6   endereco         100 non-null    object\n",
      " 7   cep              100 non-null    object\n",
      "dtypes: int64(1), object(7)\n",
      "memory usage: 6.4+ KB\n"
     ]
    }
   ],
   "source": [
    "#Conferindo os dados do DataFrame 'colaboradores'\n",
    "\n",
    "colaboradores.info()"
   ]
  },
  {
   "cell_type": "code",
   "execution_count": 11,
   "metadata": {},
   "outputs": [
    {
     "name": "stdout",
     "output_type": "stream",
     "text": [
      "70    1993-11-10\n",
      "63    1988-08-16\n",
      "86    1977-03-08\n",
      "84    1980-09-09\n",
      "32    1991-04-25\n",
      "Name: data_nascimento, dtype: object\n"
     ]
    }
   ],
   "source": [
    "#amostrar o formato de data de nascimento dos colaboradores \n",
    "print(colaboradores['data_nascimento'].sample(5))\n",
    "\n",
    "#converter o tipo de dados para datetime\n",
    "\n",
    "colaboradores['data_nascimento'] = pd.to_datetime(colaboradores['data_nascimento'])"
   ]
  },
  {
   "cell_type": "code",
   "execution_count": 12,
   "metadata": {},
   "outputs": [],
   "source": [
    "#alterar o nome das colunas para não confundir na hora do merge\n",
    "\n",
    "colaboradores.rename(columns={'endereco':'endereco_colaborador',\n",
    "                              'cpf':'cpf_colaborador',\n",
    "                              'cep':'cep_colaborador',\n",
    "                              'email':'email_colaborador',\n",
    "                              'primeiro_nome':'primeiro_nome_colab',\n",
    "                              'ultimo_nome':'ultimo_nome_colab',\n",
    "                              'data_nascimento':'data_nascimento_colab'},inplace=True,)"
   ]
  },
  {
   "cell_type": "code",
   "execution_count": 36,
   "metadata": {},
   "outputs": [
    {
     "name": "stdout",
     "output_type": "stream",
     "text": [
      "<class 'pandas.core.frame.DataFrame'>\n",
      "RangeIndex: 100 entries, 0 to 99\n",
      "Data columns (total 8 columns):\n",
      " #   Column                 Non-Null Count  Dtype         \n",
      "---  ------                 --------------  -----         \n",
      " 0   cod_colaborador        100 non-null    int64         \n",
      " 1   primeiro_nome_colab    100 non-null    object        \n",
      " 2   ultimo_nome_colab      100 non-null    object        \n",
      " 3   email_colaborador      100 non-null    object        \n",
      " 4   cpf_colaborador        100 non-null    object        \n",
      " 5   data_nascimento_colab  100 non-null    datetime64[ns]\n",
      " 6   endereco_colaborador   100 non-null    object        \n",
      " 7   cep_colaborador        100 non-null    object        \n",
      "dtypes: datetime64[ns](1), int64(1), object(6)\n",
      "memory usage: 6.4+ KB\n"
     ]
    }
   ],
   "source": [
    "colaboradores.info()"
   ]
  },
  {
   "cell_type": "markdown",
   "metadata": {},
   "source": [
    "    O DataFrame 'colaboradores' não possui valores nulos e foi necessário alterar o tipo de dados do campo data_nascimento para datetime."
   ]
  },
  {
   "cell_type": "markdown",
   "metadata": {},
   "source": [
    "### 3.5 DataFrame 'contas'"
   ]
  },
  {
   "cell_type": "code",
   "execution_count": 13,
   "metadata": {},
   "outputs": [
    {
     "name": "stdout",
     "output_type": "stream",
     "text": [
      "<class 'pandas.core.frame.DataFrame'>\n",
      "RangeIndex: 999 entries, 0 to 998\n",
      "Data columns (total 9 columns):\n",
      " #   Column                  Non-Null Count  Dtype  \n",
      "---  ------                  --------------  -----  \n",
      " 0   num_conta               999 non-null    int64  \n",
      " 1   cod_cliente             999 non-null    int64  \n",
      " 2   cod_agencia             999 non-null    int64  \n",
      " 3   cod_colaborador         999 non-null    int64  \n",
      " 4   tipo_conta              999 non-null    object \n",
      " 5   data_abertura           999 non-null    object \n",
      " 6   saldo_total             999 non-null    float64\n",
      " 7   saldo_disponivel        999 non-null    float64\n",
      " 8   data_ultimo_lancamento  999 non-null    object \n",
      "dtypes: float64(2), int64(4), object(3)\n",
      "memory usage: 70.4+ KB\n"
     ]
    }
   ],
   "source": [
    "#entender os dados do DataFrame 'contas'\n",
    "\n",
    "contas.info()"
   ]
  },
  {
   "cell_type": "code",
   "execution_count": 14,
   "metadata": {},
   "outputs": [
    {
     "name": "stdout",
     "output_type": "stream",
     "text": [
      "               data_abertura          data_ultimo_lancamento\n",
      "983  2022-08-02 15:03:00 UTC   2022-12-30 00:00:00.58848 UTC\n",
      "28   2012-02-26 12:34:00 UTC         2022-12-08 08:47:13 UTC\n",
      "366  2022-07-21 12:36:00 UTC  2022-12-29 23:59:59.643909 UTC\n",
      "958  2022-11-06 12:02:00 UTC  2022-12-30 00:00:00.212304 UTC\n",
      "205  2013-07-12 10:44:00 UTC         2019-09-11 05:47:27 UTC\n"
     ]
    }
   ],
   "source": [
    "print(contas[['data_abertura','data_ultimo_lancamento']].sample(5))"
   ]
  },
  {
   "cell_type": "code",
   "execution_count": 15,
   "metadata": {},
   "outputs": [],
   "source": [
    "#transformar as colunas de data para o formato datetime\n",
    "contas['data_abertura'] = pd.to_datetime(contas['data_abertura'])"
   ]
  },
  {
   "cell_type": "code",
   "execution_count": 16,
   "metadata": {},
   "outputs": [],
   "source": [
    "contas['data_ultimo_lancamento'] = pd.to_datetime(contas['data_ultimo_lancamento'], format='mixed')"
   ]
  },
  {
   "cell_type": "markdown",
   "metadata": {},
   "source": [
    "### 3.6 DataFrame 'propostas_credito'"
   ]
  },
  {
   "cell_type": "code",
   "execution_count": 17,
   "metadata": {},
   "outputs": [
    {
     "name": "stdout",
     "output_type": "stream",
     "text": [
      "<class 'pandas.core.frame.DataFrame'>\n",
      "RangeIndex: 2000 entries, 0 to 1999\n",
      "Data columns (total 12 columns):\n",
      " #   Column                 Non-Null Count  Dtype  \n",
      "---  ------                 --------------  -----  \n",
      " 0   cod_proposta           2000 non-null   int64  \n",
      " 1   cod_cliente            2000 non-null   int64  \n",
      " 2   cod_colaborador        2000 non-null   int64  \n",
      " 3   data_entrada_proposta  2000 non-null   object \n",
      " 4   taxa_juros_mensal      2000 non-null   float64\n",
      " 5   valor_proposta         2000 non-null   float64\n",
      " 6   valor_financiamento    2000 non-null   float64\n",
      " 7   valor_entrada          2000 non-null   float64\n",
      " 8   valor_prestacao        2000 non-null   float64\n",
      " 9   quantidade_parcelas    2000 non-null   int64  \n",
      " 10  carencia               2000 non-null   int64  \n",
      " 11  status_proposta        2000 non-null   object \n",
      "dtypes: float64(5), int64(5), object(2)\n",
      "memory usage: 187.6+ KB\n"
     ]
    }
   ],
   "source": [
    "#entendendo os dados do DataFrame propostas_credito\n",
    "\n",
    "propostas_credito.info()"
   ]
  },
  {
   "cell_type": "code",
   "execution_count": 18,
   "metadata": {},
   "outputs": [],
   "source": [
    "#transformar os dados para o formato datetime da coluna 'data_entrada_proposta'\n",
    "propostas_credito['data_entrada_proposta'] = pd.to_datetime(propostas_credito['data_entrada_proposta'])"
   ]
  },
  {
   "cell_type": "markdown",
   "metadata": {},
   "source": [
    "    O dataframe 'propostas_credito' não possui valores nulos e preciso que a coluna 'data_entrada_proposta' tivesse seu valor alterado para o formato datetime."
   ]
  },
  {
   "cell_type": "markdown",
   "metadata": {},
   "source": [
    "### 3.7 DataFrame 'transacoes'\n"
   ]
  },
  {
   "cell_type": "code",
   "execution_count": 19,
   "metadata": {},
   "outputs": [
    {
     "name": "stdout",
     "output_type": "stream",
     "text": [
      "<class 'pandas.core.frame.DataFrame'>\n",
      "RangeIndex: 71999 entries, 0 to 71998\n",
      "Data columns (total 5 columns):\n",
      " #   Column           Non-Null Count  Dtype  \n",
      "---  ------           --------------  -----  \n",
      " 0   cod_transacao    71999 non-null  int64  \n",
      " 1   num_conta        71999 non-null  int64  \n",
      " 2   data_transacao   71999 non-null  object \n",
      " 3   nome_transacao   71999 non-null  object \n",
      " 4   valor_transacao  71999 non-null  float64\n",
      "dtypes: float64(1), int64(2), object(2)\n",
      "memory usage: 2.7+ MB\n"
     ]
    }
   ],
   "source": [
    "#entender os dados do DataFrame 'transacoes'\n",
    "transacoes.info()"
   ]
  },
  {
   "cell_type": "code",
   "execution_count": 20,
   "metadata": {},
   "outputs": [],
   "source": [
    "#transformar a coluna 'data_transacao' para o formato datetime\n",
    "\n",
    "transacoes['data_transacao'] = pd.to_datetime(transacoes['data_transacao'], format='mixed')"
   ]
  },
  {
   "cell_type": "code",
   "execution_count": null,
   "metadata": {},
   "outputs": [],
   "source": []
  },
  {
   "cell_type": "markdown",
   "metadata": {},
   "source": [
    "## 4° união dos dataframes"
   ]
  },
  {
   "cell_type": "markdown",
   "metadata": {},
   "source": [
    "Utilizar o comando merge para unir os DataFrames em uma única tabela"
   ]
  },
  {
   "cell_type": "code",
   "execution_count": 49,
   "metadata": {},
   "outputs": [
    {
     "name": "stdout",
     "output_type": "stream",
     "text": [
      "Propostas de crédito\n",
      "Index(['cod_proposta', 'cod_cliente', 'cod_colaborador',\n",
      "       'data_entrada_proposta', 'taxa_juros_mensal', 'valor_proposta',\n",
      "       'valor_financiamento', 'valor_entrada', 'valor_prestacao',\n",
      "       'quantidade_parcelas', 'carencia', 'status_proposta'],\n",
      "      dtype='object')\n",
      "\n",
      "Transações\n",
      "Index(['cod_transacao', 'num_conta', 'data_transacao', 'nome_transacao',\n",
      "       'valor_transacao'],\n",
      "      dtype='object')\n"
     ]
    }
   ],
   "source": [
    "#obtendo os titulos das colunas de cada DataFrame para saber como relacionar os dados\n",
    "\n",
    "\n",
    "print(\"Propostas de crédito\")\n",
    "print(propostas_credito.columns)\n",
    "print()\n",
    "print(\"Transações\")\n",
    "print(transacoes.columns)"
   ]
  },
  {
   "cell_type": "code",
   "execution_count": 50,
   "metadata": {},
   "outputs": [],
   "source": [
    "#unir agencias e colaborador_agencia pelo cod_agencia\n",
    "agencia_e_colaborador = agencias.merge(colaborador_agencia, on='cod_agencia', how='left')"
   ]
  },
  {
   "cell_type": "code",
   "execution_count": 51,
   "metadata": {},
   "outputs": [],
   "source": [
    "#unir agencia + colaborador com contas pela coluna 'cod_agencia'\n",
    "agencia_e_contas = agencia_e_colaborador.merge(contas, on='cod_agencia', how='left')"
   ]
  },
  {
   "cell_type": "code",
   "execution_count": 52,
   "metadata": {},
   "outputs": [],
   "source": [
    "#removendo valores duplicados\n",
    "agencia_e_contas = agencia_e_contas.drop('data_abertura_x', axis='columns')\n",
    "\n",
    "agencia_e_contas = agencia_e_contas.drop('cod_colaborador_x', axis='columns')"
   ]
  },
  {
   "cell_type": "code",
   "execution_count": 53,
   "metadata": {},
   "outputs": [
    {
     "name": "stdout",
     "output_type": "stream",
     "text": [
      "<class 'pandas.core.frame.DataFrame'>\n",
      "RangeIndex: 9398 entries, 0 to 9397\n",
      "Data columns (total 14 columns):\n",
      " #   Column                  Non-Null Count  Dtype              \n",
      "---  ------                  --------------  -----              \n",
      " 0   cod_agencia             9398 non-null   int64              \n",
      " 1   nome                    9398 non-null   object             \n",
      " 2   endereco                9398 non-null   object             \n",
      " 3   cidade                  9398 non-null   object             \n",
      " 4   uf                      9398 non-null   object             \n",
      " 5   tipo_agencia            9398 non-null   object             \n",
      " 6   num_conta               9398 non-null   int64              \n",
      " 7   cod_cliente             9398 non-null   int64              \n",
      " 8   cod_colaborador_y       9398 non-null   int64              \n",
      " 9   tipo_conta              9398 non-null   object             \n",
      " 10  data_abertura_y         9398 non-null   datetime64[ns, UTC]\n",
      " 11  saldo_total             9398 non-null   float64            \n",
      " 12  saldo_disponivel        9398 non-null   float64            \n",
      " 13  data_ultimo_lancamento  9398 non-null   datetime64[ns, UTC]\n",
      "dtypes: datetime64[ns, UTC](2), float64(2), int64(4), object(6)\n",
      "memory usage: 1.0+ MB\n"
     ]
    }
   ],
   "source": [
    "agencia_e_contas.info()"
   ]
  },
  {
   "cell_type": "code",
   "execution_count": 54,
   "metadata": {},
   "outputs": [],
   "source": [
    "agencia_e_clientes = agencia_e_contas.merge(clientes, on='cod_cliente', how='left')"
   ]
  },
  {
   "cell_type": "code",
   "execution_count": 55,
   "metadata": {},
   "outputs": [],
   "source": [
    "agencia_e_clientes.rename(columns={\n",
    "    'cod_colaborador_y':'cod_colaborador',\n",
    "    'data_abertura_y':'data_abertura',\n",
    "    'endereco_y':'endereco',\n",
    "}, inplace=True,)"
   ]
  },
  {
   "cell_type": "code",
   "execution_count": 56,
   "metadata": {},
   "outputs": [],
   "source": [
    "colab_agencia_e_clientes = agencia_e_clientes.merge(colaboradores, on='cod_colaborador', how='left')"
   ]
  },
  {
   "cell_type": "code",
   "execution_count": 57,
   "metadata": {},
   "outputs": [],
   "source": [
    "colab_agencia_e_clientes = colab_agencia_e_clientes.drop('endereco_x', axis='columns')"
   ]
  },
  {
   "cell_type": "code",
   "execution_count": 58,
   "metadata": {},
   "outputs": [],
   "source": [
    "clientes_colab_propostas = colab_agencia_e_clientes.merge(propostas_credito, on='cod_cliente', how='left')"
   ]
  },
  {
   "cell_type": "code",
   "execution_count": 59,
   "metadata": {},
   "outputs": [],
   "source": [
    "#remover a coluna duplicada\n",
    "clientes_colab_propostas = clientes_colab_propostas.drop('cod_colaborador_x', axis='columns')\n",
    "\n",
    "#renomear a coluna de código do colaborador\n",
    "clientes_colab_propostas.rename(\n",
    "    columns={'cod_colaborador_y':'cod_colaborador'}, inplace=True,\n",
    ")"
   ]
  },
  {
   "cell_type": "code",
   "execution_count": 60,
   "metadata": {},
   "outputs": [
    {
     "name": "stdout",
     "output_type": "stream",
     "text": [
      "Index(['cod_agencia', 'nome', 'cidade', 'uf', 'tipo_agencia', 'num_conta',\n",
      "       'cod_cliente', 'tipo_conta', 'data_abertura', 'saldo_total',\n",
      "       'saldo_disponivel', 'data_ultimo_lancamento', 'primeiro_nome',\n",
      "       'ultimo_nome', 'email', 'tipo_cliente', 'data_inclusao', 'cpfcnpj',\n",
      "       'data_nascimento', 'endereco', 'cep', 'primeiro_nome_colab',\n",
      "       'ultimo_nome_colab', 'email_colaborador', 'cpf_colaborador',\n",
      "       'data_nascimento_colab', 'endereco_colaborador', 'cep_colaborador',\n",
      "       'cod_proposta', 'cod_colaborador', 'data_entrada_proposta',\n",
      "       'taxa_juros_mensal', 'valor_proposta', 'valor_financiamento',\n",
      "       'valor_entrada', 'valor_prestacao', 'quantidade_parcelas', 'carencia',\n",
      "       'status_proposta'],\n",
      "      dtype='object')\n"
     ]
    }
   ],
   "source": [
    "print(clientes_colab_propostas.columns)"
   ]
  },
  {
   "cell_type": "code",
   "execution_count": 61,
   "metadata": {},
   "outputs": [],
   "source": [
    "final_merged_df = clientes_colab_propostas.merge(transacoes, on='num_conta', how='left')"
   ]
  },
  {
   "cell_type": "code",
   "execution_count": 62,
   "metadata": {},
   "outputs": [
    {
     "name": "stdout",
     "output_type": "stream",
     "text": [
      "<class 'pandas.core.frame.DataFrame'>\n",
      "RangeIndex: 1441493 entries, 0 to 1441492\n",
      "Data columns (total 43 columns):\n",
      " #   Column                  Non-Null Count    Dtype              \n",
      "---  ------                  --------------    -----              \n",
      " 0   cod_agencia             1441493 non-null  int64              \n",
      " 1   nome                    1441493 non-null  object             \n",
      " 2   cidade                  1441493 non-null  object             \n",
      " 3   uf                      1441493 non-null  object             \n",
      " 4   tipo_agencia            1441493 non-null  object             \n",
      " 5   num_conta               1441493 non-null  int64              \n",
      " 6   cod_cliente             1441493 non-null  int64              \n",
      " 7   tipo_conta              1441493 non-null  object             \n",
      " 8   data_abertura           1441493 non-null  datetime64[ns, UTC]\n",
      " 9   saldo_total             1441493 non-null  float64            \n",
      " 10  saldo_disponivel        1441493 non-null  float64            \n",
      " 11  data_ultimo_lancamento  1441493 non-null  datetime64[ns, UTC]\n",
      " 12  primeiro_nome           1436501 non-null  object             \n",
      " 13  ultimo_nome             1436501 non-null  object             \n",
      " 14  email                   1436501 non-null  object             \n",
      " 15  tipo_cliente            1436501 non-null  object             \n",
      " 16  data_inclusao           1436501 non-null  datetime64[ns, UTC]\n",
      " 17  cpfcnpj                 1436501 non-null  object             \n",
      " 18  data_nascimento         1436501 non-null  datetime64[ns]     \n",
      " 19  endereco                1436501 non-null  object             \n",
      " 20  cep                     1436501 non-null  object             \n",
      " 21  primeiro_nome_colab     1441493 non-null  object             \n",
      " 22  ultimo_nome_colab       1441493 non-null  object             \n",
      " 23  email_colaborador       1441493 non-null  object             \n",
      " 24  cpf_colaborador         1441493 non-null  object             \n",
      " 25  data_nascimento_colab   1441493 non-null  datetime64[ns]     \n",
      " 26  endereco_colaborador    1441493 non-null  object             \n",
      " 27  cep_colaborador         1441493 non-null  object             \n",
      " 28  cod_proposta            1344055 non-null  float64            \n",
      " 29  cod_colaborador         1344055 non-null  float64            \n",
      " 30  data_entrada_proposta   1344055 non-null  datetime64[ns, UTC]\n",
      " 31  taxa_juros_mensal       1344055 non-null  float64            \n",
      " 32  valor_proposta          1344055 non-null  float64            \n",
      " 33  valor_financiamento     1344055 non-null  float64            \n",
      " 34  valor_entrada           1344055 non-null  float64            \n",
      " 35  valor_prestacao         1344055 non-null  float64            \n",
      " 36  quantidade_parcelas     1344055 non-null  float64            \n",
      " 37  carencia                1344055 non-null  float64            \n",
      " 38  status_proposta         1344055 non-null  object             \n",
      " 39  cod_transacao           1441493 non-null  int64              \n",
      " 40  data_transacao          1441493 non-null  datetime64[ns, UTC]\n",
      " 41  nome_transacao          1441493 non-null  object             \n",
      " 42  valor_transacao         1441493 non-null  float64            \n",
      "dtypes: datetime64[ns, UTC](5), datetime64[ns](2), float64(12), int64(4), object(20)\n",
      "memory usage: 472.9+ MB\n"
     ]
    }
   ],
   "source": [
    "final_merged_df.info()"
   ]
  },
  {
   "cell_type": "code",
   "execution_count": 63,
   "metadata": {},
   "outputs": [
    {
     "name": "stdout",
     "output_type": "stream",
     "text": [
      "cod_agencia                  10\n",
      "nome                         10\n",
      "cidade                        7\n",
      "uf                            5\n",
      "tipo_agencia                  2\n",
      "num_conta                   999\n",
      "cod_cliente                 999\n",
      "tipo_conta                    1\n",
      "data_abertura               998\n",
      "saldo_total                 999\n",
      "saldo_disponivel            999\n",
      "data_ultimo_lancamento      988\n",
      "primeiro_nome               202\n",
      "ultimo_nome                  70\n",
      "email                       994\n",
      "tipo_cliente                  1\n",
      "data_inclusao               997\n",
      "cpfcnpj                     998\n",
      "data_nascimento             975\n",
      "endereco                    998\n",
      "cep                         998\n",
      "primeiro_nome_colab          75\n",
      "ultimo_nome_colab            50\n",
      "email_colaborador            94\n",
      "cpf_colaborador              94\n",
      "data_nascimento_colab        94\n",
      "endereco_colaborador         94\n",
      "cep_colaborador              94\n",
      "cod_proposta               2000\n",
      "cod_colaborador             100\n",
      "data_entrada_proposta      2000\n",
      "taxa_juros_mensal           171\n",
      "valor_proposta             2000\n",
      "valor_financiamento        2000\n",
      "valor_entrada              2000\n",
      "valor_prestacao            2000\n",
      "quantidade_parcelas         120\n",
      "carencia                      7\n",
      "status_proposta               4\n",
      "cod_transacao             71999\n",
      "data_transacao            68330\n",
      "nome_transacao               15\n",
      "valor_transacao           30166\n",
      "dtype: int64\n"
     ]
    }
   ],
   "source": [
    "print(final_merged_df.nunique())"
   ]
  },
  {
   "cell_type": "markdown",
   "metadata": {},
   "source": [
    "## 5° Usando esses dados"
   ]
  }
 ],
 "metadata": {
  "kernelspec": {
   "display_name": "Python 3",
   "language": "python",
   "name": "python3"
  },
  "language_info": {
   "codemirror_mode": {
    "name": "ipython",
    "version": 3
   },
   "file_extension": ".py",
   "mimetype": "text/x-python",
   "name": "python",
   "nbconvert_exporter": "python",
   "pygments_lexer": "ipython3",
   "version": "3.12.0"
  }
 },
 "nbformat": 4,
 "nbformat_minor": 2
}
